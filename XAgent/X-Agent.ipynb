{
 "cells": [
  {
   "cell_type": "code",
   "execution_count": null,
   "metadata": {},
   "outputs": [],
   "source": [
    "import os, sys\n",
    "sys.path.append(os.getcwd())\n",
    "sys.stderr = sys.__stderr__"
   ]
  },
  {
   "cell_type": "code",
   "execution_count": null,
   "metadata": {},
   "outputs": [],
   "source": [
    "%load_ext autoreload\n",
    "%autoreload 2\n",
    "%matplotlib inline\n",
    "import random\n",
    "import matplotlib\n",
    "import numpy as np\n",
    "from XAgent.Agent.agent import Agent\n",
    "from XAgent.Agent.utils import print_log\n",
    "from XAgent.Agent import constraints\n",
    "import matplotlib.pyplot as plt\n",
    "import logging\n",
    "from importlib import reload\n",
    "logging.shutdown()\n",
    "reload(logging)\n",
    "\n",
    "from datetime import datetime\n",
    "now = datetime.now()\n",
    "dt_string = now.strftime(\"%d_%m_%Y_%H_%M_%S\")\n",
    "print(dt_string)\n",
    "logging.CON = 25\n",
    "logging.basicConfig(filename=f'logs/{dt_string}.log', level=logging.CON)\n"
   ]
  },
  {
   "cell_type": "code",
   "execution_count": null,
   "metadata": {},
   "outputs": [],
   "source": [
    "agent = Agent()\n"
   ]
  },
  {
   "cell_type": "code",
   "execution_count": null,
   "metadata": {
    "tags": []
   },
   "outputs": [],
   "source": [
    "# import os, sys\n",
    "sys.stderr = sys.__stderr__\n",
    "bot_name = \"X-Agent\"\n",
    "conversations = []\n",
    "def status_response(text):\n",
    "    if \"how are you\" in text:\n",
    "        return \"great, and you?\"\n",
    "def greeting_response(text):\n",
    "    text = text.lower()\n",
    "\n",
    "    #Bots greeting response\n",
    "    bot_greetings = ['Howdy!', 'Hi!', 'Hello!', 'Greetings!']\n",
    "\n",
    "    #User greeting\n",
    "    user_greetings = ['hi', 'hey', 'hello', 'greetings', 'wassup']\n",
    "\n",
    "    for word in text.split():\n",
    "        if word in user_greetings:\n",
    "            return random.choice(bot_greetings)\n",
    "\n",
    "exit_list = ['exit', 'see you later', 'bye', 'quit', 'break', 'stop', 'ok, thanks, bye']\n",
    "msg = constraints.welcome_msg\n",
    "print(f'\\033[1m\\033[94mX-Agent:\\033[0m {msg}')\n",
    "logging.log(logging.CON,f\"Xagent: {msg}\")\n",
    "# conversations.append(f\"Xagent: {msg}\")\n",
    "while(True):\n",
    "    print('\\033[91m\\033[1mUser:\\033[0m')\n",
    "    user_input = input()\n",
    "    conversations.append(f\"User: {user_input}\")\n",
    "    logging.log(logging.CON,f\"Xagent: {user_input}\")\n",
    "    if user_input.lower() in exit_list:\n",
    "        msg = 'Chat with you later, and remember... stay safe!'\n",
    "        print('\\033[1m\\033[94m' + bot_name+': ' + '\\033[0m' + msg)\n",
    "        logging.log(logging.CON,f\"Xagent: {msg}\")\n",
    "#         with open('items.txt','w') as tfile:\n",
    "#             tfile.write('\\n'.join(conversations))\n",
    "#         break\n",
    "    else:\n",
    "        # print('\\033[1m\\033[94m' + bot_name+': ' + '\\033[0m')\n",
    "        if greeting:= greeting_response(user_input):\n",
    "            # print(greeting)\n",
    "            # logging.log(logging.CON,f\"Xagent: {greeting}\")\n",
    "            print_log(\"xagent\",greeting)\n",
    "#             conversations.append(f\"Xagent: {greeting}\")\n",
    "        elif status:= status_response(user_input):\n",
    "            # print(status)\n",
    "            # logging.log(logging.CON,f\"Xagent: {status}\")\n",
    "            print_log(\"xagent\",status)\n",
    "#             conversations.append(f\"Xagent: {status}\")\n",
    "        elif dataset:= agent.dataset_response(user_input, conversations):\n",
    "            # logging.log(logging.CON,f\"Xagent: {dataset}\")\n",
    "            print_log(\"xagent\",dataset)\n",
    "#             conversations.append(f\"Xagent: {dataset}\")\n",
    "\n"
   ]
  },
  {
   "cell_type": "code",
   "execution_count": null,
   "metadata": {},
   "outputs": [],
   "source": []
  }
 ],
 "metadata": {
  "kernelspec": {
   "display_name": "Python 3 (ipykernel)",
   "language": "python",
   "name": "python3"
  },
  "language_info": {
   "codemirror_mode": {
    "name": "ipython",
    "version": 3
   },
   "file_extension": ".py",
   "mimetype": "text/x-python",
   "name": "python",
   "nbconvert_exporter": "python",
   "pygments_lexer": "ipython3",
   "version": "3.8.5"
  }
 },
 "nbformat": 4,
 "nbformat_minor": 4
}
